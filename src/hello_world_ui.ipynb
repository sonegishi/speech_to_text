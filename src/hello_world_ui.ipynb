{
 "cells": [
  {
   "cell_type": "code",
   "execution_count": null,
   "metadata": {},
   "outputs": [],
   "source": [
    "from PyQt5 import QtCore\n",
    "from PyQt5 import QtGui\n",
    "from PyQt5 import QtWidgets\n",
    "from PyQt5.QtWidgets import QAction\n",
    "# from PyQt5.QtGui import QIcon\n",
    "from PyQt5.QtWidgets import QFileDialog"
   ]
  },
  {
   "cell_type": "code",
   "execution_count": null,
   "metadata": {},
   "outputs": [],
   "source": [
    "class Ui_MainWindow(object):\n",
    "    def _setup_ui(self, MainWindow):\n",
    "        MainWindow.setObjectName('MainWindow')\n",
    "\n",
    "        MainWindow.resize(400, 300)\n",
    "\n",
    "        self.central_widget = QtWidgets.QWidget(MainWindow)\n",
    "        self.central_widget.setObjectName('centralwidget')\n",
    "\n",
    "        self.label = QtWidgets.QLabel(self.central_widget)\n",
    "        self.label.setGeometry(QtCore.QRect(160, 40, 60, 16))\n",
    "        self.label.setObjectName('label')\n",
    "\n",
    "        # Set file\n",
    "        self.pushButton = QtWidgets.QPushButton(self.central_widget)\n",
    "        self.pushButton.setGeometry(QtCore.QRect(140, 90, 110, 30))\n",
    "        self.pushButton.setObjectName('pushButton')\n",
    "        self.pushButton.pressed.connect(self._show_dialog)\n",
    "\n",
    "        MainWindow.setCentralWidget(self.central_widget)\n",
    "\n",
    "        # Menu bar\n",
    "        self.menu_bar = QtWidgets.QMenuBar(MainWindow)\n",
    "        self.menu_bar.setGeometry(QtCore.QRect(0, 0, 400, 22))\n",
    "        self.menu_bar.setObjectName('menubar')\n",
    "        file_menu = self.menu_bar.addMenu('File')\n",
    "        file_menu.addAction(self._open_file)\n",
    "        MainWindow.setMenuBar(self.menu_bar)\n",
    "\n",
    "        # Status bar\n",
    "        self.status_bar = QtWidgets.QStatusBar(MainWindow)\n",
    "        self.status_bar.setObjectName('statusbar')\n",
    "        MainWindow.setStatusBar(self.status_bar)\n",
    "\n",
    "        self.setGeometry(300, 300, 350, 300)\n",
    "        self.setWindowTitle('File dialog')\n",
    "\n",
    "        self._retranslate_ui(MainWindow)\n",
    "#         self.pushButton.pressed.connect(MainWindow.set_text)\n",
    "        QtCore.QMetaObject.connectSlotsByName(MainWindow)\n",
    "\n",
    "    def _retranslate_ui(self, MainWindow):\n",
    "        _translate = QtCore.QCoreApplication.translate\n",
    "        MainWindow.setWindowTitle(_translate('MainWindow', 'MainWindow'))\n",
    "        self.label.setText(_translate('MainWindow', 'TextLabel'))\n",
    "        self.pushButton.setText(_translate('MainWindow', 'PushButton'))\n",
    "        \n",
    "    def _open_file(self):\n",
    "        open_file = QAction('Open', self)\n",
    "        open_file.setShortcut('Ctrl+O')\n",
    "        open_file.setStatusTip('Open File')\n",
    "        open_file.triggered.connect(self._show_dialog)\n",
    "        return open_file\n",
    "\n",
    "    def _show_dialog(self):\n",
    "        file_name = QFileDialog.getOpenFileName(self, 'Open file', '/home')\n",
    "        if file_name[0]:\n",
    "            with open(file_name[0], 'r', 'utf-8', 'ignore') as f:\n",
    "                data = f.read()\n",
    "                self.label.setText(data)"
   ]
  }
 ],
 "metadata": {
  "jupytext": {
   "formats": "ipynb,py:light"
  },
  "kernelspec": {
   "display_name": "Python 3",
   "language": "python",
   "name": "python3"
  },
  "language_info": {
   "codemirror_mode": {
    "name": "ipython",
    "version": 3
   },
   "file_extension": ".py",
   "mimetype": "text/x-python",
   "name": "python",
   "nbconvert_exporter": "python",
   "pygments_lexer": "ipython3",
   "version": "3.7.6"
  }
 },
 "nbformat": 4,
 "nbformat_minor": 4
}
