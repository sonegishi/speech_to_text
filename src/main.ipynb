{
 "cells": [
  {
   "cell_type": "markdown",
   "metadata": {},
   "source": [
    "# Speech to Text\n",
    "\n",
    "https://www.mitsue.co.jp/service/audio_and_video/audio_production/narrators_sample.html"
   ]
  },
  {
   "cell_type": "code",
   "execution_count": 1,
   "metadata": {},
   "outputs": [],
   "source": [
    "import os\n",
    "import sys\n",
    "from moviepy.editor import *\n",
    "from google.cloud import storage\n",
    "from google.cloud import speech_v1p1beta1\n",
    "from google.cloud.speech_v1p1beta1 import enums"
   ]
  },
  {
   "cell_type": "code",
   "execution_count": 2,
   "metadata": {},
   "outputs": [],
   "source": [
    "# GCS: us-central1 (Iowa)\n",
    "service_account_path = '../service-account.json'\n",
    "os.environ['GOOGLE_APPLICATION_CREDENTIALS'] = service_account_path"
   ]
  },
  {
   "cell_type": "code",
   "execution_count": 3,
   "metadata": {},
   "outputs": [],
   "source": [
    "def _speech_to_text(storage_uri):\n",
    "    \"\"\"\n",
    "    Performs synchronous speech recognition on an audio file\n",
    "\n",
    "    Args:\n",
    "      storage_uri URI for audio file in Cloud Storage, e.g. gs://[BUCKET]/[FILE]\n",
    "    \"\"\"\n",
    "\n",
    "    client = speech_v1p1beta1.SpeechClient()\n",
    "\n",
    "    language_code = 'ja-JP'\n",
    "\n",
    "    sample_rate_hertz = 44100\n",
    "\n",
    "    encoding = enums.RecognitionConfig.AudioEncoding.MP3\n",
    "    config = {\n",
    "        'language_code': language_code,\n",
    "        'sample_rate_hertz': sample_rate_hertz,\n",
    "        'encoding': encoding,\n",
    "    }\n",
    "    audio = {'uri': storage_uri}\n",
    "\n",
    "    response = client.recognize(config, audio)\n",
    "    return response"
   ]
  },
  {
   "cell_type": "code",
   "execution_count": 4,
   "metadata": {},
   "outputs": [],
   "source": [
    "def _upload_blob(bucket_name, source_file_name, destination_blob_name):\n",
    "    \"\"\"\n",
    "    Uploads a file to the bucket.\n",
    "    \"\"\"\n",
    "    storage_client = storage.Client()\n",
    "    bucket = storage_client.bucket(bucket_name)\n",
    "    blob = bucket.blob(destination_blob_name)\n",
    "\n",
    "    blob.upload_from_filename(source_file_name)\n",
    "\n",
    "    print(f'File {source_file_name} uploaded to {destination_blob_name}')"
   ]
  },
  {
   "cell_type": "code",
   "execution_count": 5,
   "metadata": {},
   "outputs": [],
   "source": [
    "def _delete_blob(bucket_name, blob_name):\n",
    "    \"\"\"\n",
    "    Deletes a blob from the bucket.\n",
    "    \"\"\"\n",
    "    storage_client = storage.Client()\n",
    "\n",
    "    bucket = storage_client.bucket(bucket_name)\n",
    "    blob = bucket.blob(blob_name)\n",
    "    blob.delete()\n",
    "\n",
    "    print(f'Blob {blob_name} deleted.')"
   ]
  },
  {
   "cell_type": "code",
   "execution_count": 6,
   "metadata": {},
   "outputs": [],
   "source": [
    "def convert_mp4_to_mp3(mp4_file_path, export_file_path): \n",
    "    video = VideoFileClip(mp4_file_path)\n",
    "    video.audio.write_audiofile(export_file_path)"
   ]
  },
  {
   "cell_type": "code",
   "execution_count": 7,
   "metadata": {},
   "outputs": [],
   "source": [
    "def convert_speech_to_text(bucket_name, source_file_name, destination_blob_name, text_file_name):\n",
    "    _upload_blob(bucket_name, mp3_file_path, destination_blob_name)\n",
    "\n",
    "    storage_uri = f'gs://{bucket_name}/{destination_blob_name}'\n",
    "    responses = _speech_to_text(storage_uri)\n",
    "    for result in responses.results:\n",
    "        alternative = result.alternatives[0]\n",
    "        print(f'Transcript: {alternative.transcript}')\n",
    "        break\n",
    "\n",
    "    _delete_blob(bucket_name, destination_blob_name)\n",
    "\n",
    "    with open(text_file, 'w') as f:\n",
    "        f.write(alternative.transcript)\n",
    "    print(f'File {text_file} created.')"
   ]
  },
  {
   "cell_type": "code",
   "execution_count": 8,
   "metadata": {},
   "outputs": [],
   "source": [
    "mp4_file_path = '../data/sample.mp4'\n",
    "mp3_file_path = '../data/sample.mp3'\n",
    "# convert_mp4_to_mp3(mp4_file_path, mp3_file_path)"
   ]
  },
  {
   "cell_type": "code",
   "execution_count": 9,
   "metadata": {},
   "outputs": [
    {
     "name": "stdout",
     "output_type": "stream",
     "text": [
      "File ../data/sample.mp3 uploaded to sample.mp3\n",
      "Transcript: 音声メッセージが既存のウェブサイトを超えたコミュニケーションを実現目で見るだけだった Web サイトに音声情報をインクルードすることで情報に新しい価値を与え他社との差別化に効果を発揮しますまた文字やグラフィックだけでは伝えることの難しかった感情やニュアンスを表現しユーザーの興味と理解を深めます見る聞く理解するウェブサイトへ音声メッセージが人の心を動かします\n",
      "Blob sample.mp3 deleted.\n",
      "File ../out/sample.txt created.\n"
     ]
    }
   ],
   "source": [
    "bucket_name = 'negishi'\n",
    "destination_blob_name = 'sample.mp3'\n",
    "text_file = '../out/sample.txt'\n",
    "convert_speech_to_text(bucket_name, mp3_file_path, destination_blob_name, text_file)"
   ]
  }
 ],
 "metadata": {
  "jupytext": {
   "formats": "ipynb,py:light"
  },
  "kernelspec": {
   "display_name": "Python 3",
   "language": "python",
   "name": "python3"
  },
  "language_info": {
   "codemirror_mode": {
    "name": "ipython",
    "version": 3
   },
   "file_extension": ".py",
   "mimetype": "text/x-python",
   "name": "python",
   "nbconvert_exporter": "python",
   "pygments_lexer": "ipython3",
   "version": "3.7.6"
  }
 },
 "nbformat": 4,
 "nbformat_minor": 4
}
