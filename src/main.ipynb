{
 "cells": [
  {
   "cell_type": "markdown",
   "metadata": {},
   "source": [
    "# Speech to Text\n",
    "\n",
    "https://www.mitsue.co.jp/service/audio_and_video/audio_production/narrators_sample.html"
   ]
  },
  {
   "cell_type": "code",
   "execution_count": null,
   "metadata": {},
   "outputs": [],
   "source": [
    "import os\n",
    "import sys\n",
    "import time\n",
    "from moviepy.editor import *\n",
    "from pydub import AudioSegment\n",
    "from google.cloud import storage\n",
    "from google.cloud import speech_v1\n",
    "from google.cloud.speech_v1 import enums\n",
    "from google.cloud.speech_v1p1beta1 import enums"
   ]
  },
  {
   "cell_type": "code",
   "execution_count": null,
   "metadata": {},
   "outputs": [],
   "source": [
    "# GCS: us-central1 (Iowa)\n",
    "service_account_path = '../service-account.json'\n",
    "os.environ['GOOGLE_APPLICATION_CREDENTIALS'] = service_account_path"
   ]
  },
  {
   "cell_type": "code",
   "execution_count": null,
   "metadata": {},
   "outputs": [],
   "source": [
    "def _speech_to_text(storage_uri):\n",
    "    \"\"\"\n",
    "    Transcribe a long audio file using asynchronous speech recognition\n",
    "\n",
    "    Args:\n",
    "      local_file_path Path to local audio file, e.g. /path/audio.wav\n",
    "    \"\"\"\n",
    "\n",
    "    client = speech_v1.SpeechClient()\n",
    "\n",
    "    # local_file_path = 'resources/brooklyn_bridge.raw'\n",
    "\n",
    "    # The language of the supplied audio\n",
    "    language_code = 'ja-JP'\n",
    "\n",
    "    # Sample rate in Hertz of the audio data sent\n",
    "    sample_rate_hertz = 32000\n",
    "\n",
    "    # Encoding of audio data sent. This sample sets this explicitly.\n",
    "    # This field is optional for FLAC and WAV audio formats.\n",
    "    encoding = enums.RecognitionConfig.AudioEncoding.FLAC\n",
    "    config = {\n",
    "        'language_code': language_code,\n",
    "        'sample_rate_hertz': sample_rate_hertz,\n",
    "        'encoding': encoding,\n",
    "    }\n",
    "    audio = {'uri': storage_uri}\n",
    "\n",
    "    operation = client.long_running_recognize(config, audio)\n",
    "\n",
    "    print(u'Waiting for operation to complete...')\n",
    "    response = operation.result()\n",
    "    print(f'Response:\\n{response}')\n",
    "    return response"
   ]
  },
  {
   "cell_type": "code",
   "execution_count": null,
   "metadata": {},
   "outputs": [],
   "source": [
    "def _upload_blob(bucket_name, source_file_name, destination_blob_name):\n",
    "    \"\"\"\n",
    "    Uploads a file to the bucket.\n",
    "    \"\"\"\n",
    "    storage_client = storage.Client()\n",
    "    bucket = storage_client.bucket(bucket_name)\n",
    "    blob = bucket.blob(destination_blob_name)\n",
    "\n",
    "    blob.upload_from_filename(source_file_name)\n",
    "\n",
    "    print(f'File {source_file_name} uploaded to {destination_blob_name}')"
   ]
  },
  {
   "cell_type": "code",
   "execution_count": null,
   "metadata": {},
   "outputs": [],
   "source": [
    "def _delete_blob(bucket_name, blob_name):\n",
    "    \"\"\"\n",
    "    Deletes a blob from the bucket.\n",
    "    \"\"\"\n",
    "    storage_client = storage.Client()\n",
    "\n",
    "    bucket = storage_client.bucket(bucket_name)\n",
    "    blob = bucket.blob(blob_name)\n",
    "    blob.delete()\n",
    "\n",
    "    print(f'Blob {blob_name} deleted.')"
   ]
  },
  {
   "cell_type": "code",
   "execution_count": null,
   "metadata": {},
   "outputs": [],
   "source": [
    "def convert_mp4_to_mp3(mp4_file_path, export_file_path): \n",
    "    video = VideoFileClip(mp4_file_path)\n",
    "    video.audio.write_audiofile(export_file_path)"
   ]
  },
  {
   "cell_type": "code",
   "execution_count": null,
   "metadata": {},
   "outputs": [],
   "source": [
    "def convert_speech_to_text(bucket_name, source_file_name, destination_blob_name, text_file_name):\n",
    "    _upload_blob(bucket_name, source_file_name, destination_blob_name)\n",
    "\n",
    "    storage_uri = f'gs://{bucket_name}/{destination_blob_name}'\n",
    "    responses = _speech_to_text(storage_uri)\n",
    "    for result in responses.results:\n",
    "        alternative = result.alternatives[0]\n",
    "        print(f'Transcript: {alternative.transcript}')\n",
    "        break\n",
    "\n",
    "    _delete_blob(bucket_name, destination_blob_name)\n",
    "\n",
    "    with open(text_file, 'w') as f:\n",
    "        f.write(alternative.transcript)\n",
    "    print(f'File {text_file} created.')"
   ]
  },
  {
   "cell_type": "code",
   "execution_count": null,
   "metadata": {},
   "outputs": [],
   "source": [
    "def convert_long_speech_to_text(bucket_name, source_file_name, destination_blob_name, text_file_name):\n",
    "    _upload_blob(bucket_name, source_file_name, destination_blob_name)\n",
    "\n",
    "    storage_uri = f'gs://{bucket_name}/{destination_blob_name}'\n",
    "    responses = _speech_to_text(storage_uri)\n",
    "    for result in responses.results:\n",
    "        alternative = result.alternatives[0]\n",
    "        print(f'Transcript: {alternative.transcript}')\n",
    "        break\n",
    "\n",
    "    _delete_blob(bucket_name, destination_blob_name)\n",
    "\n",
    "    with open(text_file, 'w') as f:\n",
    "        f.write(alternative.transcript)\n",
    "    print(f'File {text_file} created.')"
   ]
  },
  {
   "cell_type": "code",
   "execution_count": null,
   "metadata": {},
   "outputs": [],
   "source": [
    "def convert_m4a_flac(source_path, target_path):\n",
    "    sound = AudioSegment.from_file(source_path, format='m4a')\n",
    "#     if sr:\n",
    "#         sound = sound.set_frame_rate(sr)\n",
    "#     if db:\n",
    "#         change_dBFS = db - sound.dBFS\n",
    "#         sound = sound.apply_gain(change_dBFS)\n",
    "    sound.export(target_path, 'flac') "
   ]
  },
  {
   "cell_type": "code",
   "execution_count": null,
   "metadata": {},
   "outputs": [],
   "source": [
    "if __name__ == '__main__':\n",
    "    start_time = time.time()\n",
    "\n",
    "    audio_file_path = sys.argv[1]\n",
    "\n",
    "    if audio_file_path:\n",
    "        bucket_name = 'negishi'\n",
    "        destination_blob_name = 'sample.flac'\n",
    "\n",
    "        # Create a path to convert to a FLAC file\n",
    "        flac_file_path = audio_file_path.split('.')[:-1]\n",
    "        flac_file_path = '.'.join(flac_file_path) + '.flac'\n",
    "\n",
    "        # Convert a m4a file to a flac file\n",
    "        convert_m4a_flac(audio_file_path, flac_file_path)\n",
    "\n",
    "        # Upload the converted file\n",
    "        _upload_blob(bucket_name, flac_file_path, destination_blob_name)\n",
    "\n",
    "        # Convert speech to text\n",
    "        storage_uri = f'gs://{bucket_name}/{destination_blob_name}'\n",
    "        responses = _speech_to_text(storage_uri)\n",
    "        texts = ''\n",
    "        for result in responses.results:\n",
    "            alternative = result.alternatives[0]\n",
    "            texts += alternative.transcript\n",
    "            texts += '\\n\\n'\n",
    "\n",
    "        # Delete the uploaded files\n",
    "        _delete_blob(bucket_name, destination_blob_name)\n",
    "\n",
    "        # Create a path to save the text file\n",
    "        text_file_path = audio_file_path.split('/')[-1]\n",
    "        text_file_path = text_file_path.split('.')[:-1]\n",
    "        text_file_path = os.path.join('../out/', '.'.join(text_file_path) +'.txt')\n",
    "\n",
    "        # Export to a text file\n",
    "        with open(text_file_path, 'w') as f:\n",
    "            f.write(texts)\n",
    "        print(f'File {text_file_path} created.')\n",
    "\n",
    "    print(time.time() - start_time)"
   ]
  }
 ],
 "metadata": {
  "jupytext": {
   "formats": "ipynb,py:light"
  },
  "kernelspec": {
   "display_name": "Python 3",
   "language": "python",
   "name": "python3"
  },
  "language_info": {
   "codemirror_mode": {
    "name": "ipython",
    "version": 3
   },
   "file_extension": ".py",
   "mimetype": "text/x-python",
   "name": "python",
   "nbconvert_exporter": "python",
   "pygments_lexer": "ipython3",
   "version": "3.7.6"
  }
 },
 "nbformat": 4,
 "nbformat_minor": 4
}
